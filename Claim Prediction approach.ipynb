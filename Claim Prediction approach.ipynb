{
 "cells": [
  {
   "cell_type": "markdown",
   "id": "781dd769",
   "metadata": {},
   "source": [
    "# Solution Approach\n",
    "Problem Statement - To predict if an existing customer of a car insurance company will raise a claim in the upcoming 6 months or not.\n",
    "\n",
    "Below are the steps taken to find an optimized model for the given classification problem:\n",
    "\n",
    "After loading the dataset and doing basic exploration, it is noticed that the event(claim raised by a customer) count is around 6%. Further, there are no missing values in the dataset.\n",
    "\n",
    "From basic EDA, it is found out that there are more categorical and binary features in the dataset compared to the numerical feature. Further, there is no significant linear relationship between any feature and target variable.\n",
    "\n",
    "The dataset is split into train and validation sets(70:30). The categorical variables are encoded using the label encoder.\n",
    "\n",
    "Tree-based models generally works well for this type of class imbalance problem. So, the Decision tree is used.\n",
    "\n",
    "F1 score has been chosen as the evaluation metric as per the contest requirement. But, depending on the business setup, we can either use recall/precision as the evaluation metric. A detailed cost-benefit analysis of acquiring a customer vs claim payment needs to be done to solve the problem.\n",
    "\n",
    "After getting the optimal hypermeters the model is fitted with the entire training dataset.\n",
    "\n",
    "F1 score on the validation set is 0.15374."
   ]
  },
  {
   "cell_type": "markdown",
   "id": "4ebdae5c",
   "metadata": {},
   "source": [
    "## Load the dataset and do basic checks"
   ]
  },
  {
   "cell_type": "code",
   "execution_count": 1,
   "id": "f69a946e",
   "metadata": {},
   "outputs": [
    {
     "data": {
      "text/html": [
       "<div>\n",
       "<style scoped>\n",
       "    .dataframe tbody tr th:only-of-type {\n",
       "        vertical-align: middle;\n",
       "    }\n",
       "\n",
       "    .dataframe tbody tr th {\n",
       "        vertical-align: top;\n",
       "    }\n",
       "\n",
       "    .dataframe thead th {\n",
       "        text-align: right;\n",
       "    }\n",
       "</style>\n",
       "<table border=\"1\" class=\"dataframe\">\n",
       "  <thead>\n",
       "    <tr style=\"text-align: right;\">\n",
       "      <th></th>\n",
       "      <th>policy_id</th>\n",
       "      <th>policy_tenure</th>\n",
       "      <th>age_of_car</th>\n",
       "      <th>age_of_policyholder</th>\n",
       "      <th>area_cluster</th>\n",
       "      <th>population_density</th>\n",
       "      <th>make</th>\n",
       "      <th>segment</th>\n",
       "      <th>model</th>\n",
       "      <th>fuel_type</th>\n",
       "      <th>...</th>\n",
       "      <th>is_brake_assist</th>\n",
       "      <th>is_power_door_locks</th>\n",
       "      <th>is_central_locking</th>\n",
       "      <th>is_power_steering</th>\n",
       "      <th>is_driver_seat_height_adjustable</th>\n",
       "      <th>is_day_night_rear_view_mirror</th>\n",
       "      <th>is_ecw</th>\n",
       "      <th>is_speed_alert</th>\n",
       "      <th>ncap_rating</th>\n",
       "      <th>is_claim</th>\n",
       "    </tr>\n",
       "  </thead>\n",
       "  <tbody>\n",
       "    <tr>\n",
       "      <th>0</th>\n",
       "      <td>ID00001</td>\n",
       "      <td>0.515874</td>\n",
       "      <td>0.05</td>\n",
       "      <td>0.644231</td>\n",
       "      <td>C1</td>\n",
       "      <td>4990</td>\n",
       "      <td>1</td>\n",
       "      <td>A</td>\n",
       "      <td>M1</td>\n",
       "      <td>CNG</td>\n",
       "      <td>...</td>\n",
       "      <td>No</td>\n",
       "      <td>No</td>\n",
       "      <td>No</td>\n",
       "      <td>Yes</td>\n",
       "      <td>No</td>\n",
       "      <td>No</td>\n",
       "      <td>No</td>\n",
       "      <td>Yes</td>\n",
       "      <td>0</td>\n",
       "      <td>0</td>\n",
       "    </tr>\n",
       "    <tr>\n",
       "      <th>1</th>\n",
       "      <td>ID00002</td>\n",
       "      <td>0.672619</td>\n",
       "      <td>0.02</td>\n",
       "      <td>0.375000</td>\n",
       "      <td>C2</td>\n",
       "      <td>27003</td>\n",
       "      <td>1</td>\n",
       "      <td>A</td>\n",
       "      <td>M1</td>\n",
       "      <td>CNG</td>\n",
       "      <td>...</td>\n",
       "      <td>No</td>\n",
       "      <td>No</td>\n",
       "      <td>No</td>\n",
       "      <td>Yes</td>\n",
       "      <td>No</td>\n",
       "      <td>No</td>\n",
       "      <td>No</td>\n",
       "      <td>Yes</td>\n",
       "      <td>0</td>\n",
       "      <td>0</td>\n",
       "    </tr>\n",
       "    <tr>\n",
       "      <th>2</th>\n",
       "      <td>ID00003</td>\n",
       "      <td>0.841110</td>\n",
       "      <td>0.02</td>\n",
       "      <td>0.384615</td>\n",
       "      <td>C3</td>\n",
       "      <td>4076</td>\n",
       "      <td>1</td>\n",
       "      <td>A</td>\n",
       "      <td>M1</td>\n",
       "      <td>CNG</td>\n",
       "      <td>...</td>\n",
       "      <td>No</td>\n",
       "      <td>No</td>\n",
       "      <td>No</td>\n",
       "      <td>Yes</td>\n",
       "      <td>No</td>\n",
       "      <td>No</td>\n",
       "      <td>No</td>\n",
       "      <td>Yes</td>\n",
       "      <td>0</td>\n",
       "      <td>0</td>\n",
       "    </tr>\n",
       "    <tr>\n",
       "      <th>3</th>\n",
       "      <td>ID00004</td>\n",
       "      <td>0.900277</td>\n",
       "      <td>0.11</td>\n",
       "      <td>0.432692</td>\n",
       "      <td>C4</td>\n",
       "      <td>21622</td>\n",
       "      <td>1</td>\n",
       "      <td>C1</td>\n",
       "      <td>M2</td>\n",
       "      <td>Petrol</td>\n",
       "      <td>...</td>\n",
       "      <td>Yes</td>\n",
       "      <td>Yes</td>\n",
       "      <td>Yes</td>\n",
       "      <td>Yes</td>\n",
       "      <td>Yes</td>\n",
       "      <td>Yes</td>\n",
       "      <td>Yes</td>\n",
       "      <td>Yes</td>\n",
       "      <td>2</td>\n",
       "      <td>0</td>\n",
       "    </tr>\n",
       "    <tr>\n",
       "      <th>4</th>\n",
       "      <td>ID00005</td>\n",
       "      <td>0.596403</td>\n",
       "      <td>0.11</td>\n",
       "      <td>0.634615</td>\n",
       "      <td>C5</td>\n",
       "      <td>34738</td>\n",
       "      <td>2</td>\n",
       "      <td>A</td>\n",
       "      <td>M3</td>\n",
       "      <td>Petrol</td>\n",
       "      <td>...</td>\n",
       "      <td>No</td>\n",
       "      <td>Yes</td>\n",
       "      <td>Yes</td>\n",
       "      <td>Yes</td>\n",
       "      <td>No</td>\n",
       "      <td>Yes</td>\n",
       "      <td>Yes</td>\n",
       "      <td>Yes</td>\n",
       "      <td>2</td>\n",
       "      <td>0</td>\n",
       "    </tr>\n",
       "  </tbody>\n",
       "</table>\n",
       "<p>5 rows × 44 columns</p>\n",
       "</div>"
      ],
      "text/plain": [
       "  policy_id  policy_tenure  age_of_car  age_of_policyholder area_cluster  \\\n",
       "0   ID00001       0.515874        0.05             0.644231           C1   \n",
       "1   ID00002       0.672619        0.02             0.375000           C2   \n",
       "2   ID00003       0.841110        0.02             0.384615           C3   \n",
       "3   ID00004       0.900277        0.11             0.432692           C4   \n",
       "4   ID00005       0.596403        0.11             0.634615           C5   \n",
       "\n",
       "   population_density  make segment model fuel_type  ... is_brake_assist  \\\n",
       "0                4990     1       A    M1       CNG  ...              No   \n",
       "1               27003     1       A    M1       CNG  ...              No   \n",
       "2                4076     1       A    M1       CNG  ...              No   \n",
       "3               21622     1      C1    M2    Petrol  ...             Yes   \n",
       "4               34738     2       A    M3    Petrol  ...              No   \n",
       "\n",
       "  is_power_door_locks is_central_locking  is_power_steering  \\\n",
       "0                  No                 No                Yes   \n",
       "1                  No                 No                Yes   \n",
       "2                  No                 No                Yes   \n",
       "3                 Yes                Yes                Yes   \n",
       "4                 Yes                Yes                Yes   \n",
       "\n",
       "  is_driver_seat_height_adjustable is_day_night_rear_view_mirror is_ecw  \\\n",
       "0                               No                            No     No   \n",
       "1                               No                            No     No   \n",
       "2                               No                            No     No   \n",
       "3                              Yes                           Yes    Yes   \n",
       "4                               No                           Yes    Yes   \n",
       "\n",
       "  is_speed_alert ncap_rating is_claim  \n",
       "0            Yes           0        0  \n",
       "1            Yes           0        0  \n",
       "2            Yes           0        0  \n",
       "3            Yes           2        0  \n",
       "4            Yes           2        0  \n",
       "\n",
       "[5 rows x 44 columns]"
      ]
     },
     "execution_count": 1,
     "metadata": {},
     "output_type": "execute_result"
    }
   ],
   "source": [
    "import pandas as pd\n",
    "x = pd.read_csv('train_qWM28Yl.csv')\n",
    "x.head()"
   ]
  },
  {
   "cell_type": "code",
   "execution_count": 2,
   "id": "44bdeaf5",
   "metadata": {},
   "outputs": [
    {
     "data": {
      "text/plain": [
       "0    ID00001\n",
       "1    ID00002\n",
       "Name: policy_id, dtype: object"
      ]
     },
     "execution_count": 2,
     "metadata": {},
     "output_type": "execute_result"
    }
   ],
   "source": [
    "policy_id = x['policy_id']\n",
    "policy_id.head(2)"
   ]
  },
  {
   "cell_type": "code",
   "execution_count": 3,
   "id": "28f3433f",
   "metadata": {},
   "outputs": [
    {
     "data": {
      "text/plain": [
       "<bound method NDFrame.describe of       policy_id  policy_tenure  age_of_car  age_of_policyholder area_cluster  \\\n",
       "0       ID00001       0.515874        0.05             0.644231           C1   \n",
       "1       ID00002       0.672619        0.02             0.375000           C2   \n",
       "2       ID00003       0.841110        0.02             0.384615           C3   \n",
       "3       ID00004       0.900277        0.11             0.432692           C4   \n",
       "4       ID00005       0.596403        0.11             0.634615           C5   \n",
       "...         ...            ...         ...                  ...          ...   \n",
       "58587   ID58588       0.355089        0.13             0.644231           C8   \n",
       "58588   ID58589       1.199642        0.02             0.519231          C14   \n",
       "58589   ID58590       1.162273        0.05             0.451923           C5   \n",
       "58590   ID58591       1.236307        0.14             0.557692           C8   \n",
       "58591   ID58592       0.124429        0.02             0.442308           C8   \n",
       "\n",
       "       population_density  make segment model fuel_type  ... is_brake_assist  \\\n",
       "0                    4990     1       A    M1       CNG  ...              No   \n",
       "1                   27003     1       A    M1       CNG  ...              No   \n",
       "2                    4076     1       A    M1       CNG  ...              No   \n",
       "3                   21622     1      C1    M2    Petrol  ...             Yes   \n",
       "4                   34738     2       A    M3    Petrol  ...              No   \n",
       "...                   ...   ...     ...   ...       ...  ...             ...   \n",
       "58587                8794     2       A    M3    Petrol  ...              No   \n",
       "58588                7788     1       A    M1       CNG  ...              No   \n",
       "58589               34738     1       A    M1       CNG  ...              No   \n",
       "58590                8794     1      B2    M6    Petrol  ...             Yes   \n",
       "58591                8794     3      C2    M4    Diesel  ...             Yes   \n",
       "\n",
       "      is_power_door_locks is_central_locking  is_power_steering  \\\n",
       "0                      No                 No                Yes   \n",
       "1                      No                 No                Yes   \n",
       "2                      No                 No                Yes   \n",
       "3                     Yes                Yes                Yes   \n",
       "4                     Yes                Yes                Yes   \n",
       "...                   ...                ...                ...   \n",
       "58587                 Yes                Yes                Yes   \n",
       "58588                  No                 No                Yes   \n",
       "58589                  No                 No                Yes   \n",
       "58590                 Yes                Yes                Yes   \n",
       "58591                 Yes                Yes                Yes   \n",
       "\n",
       "      is_driver_seat_height_adjustable is_day_night_rear_view_mirror is_ecw  \\\n",
       "0                                   No                            No     No   \n",
       "1                                   No                            No     No   \n",
       "2                                   No                            No     No   \n",
       "3                                  Yes                           Yes    Yes   \n",
       "4                                   No                           Yes    Yes   \n",
       "...                                ...                           ...    ...   \n",
       "58587                               No                           Yes    Yes   \n",
       "58588                               No                            No     No   \n",
       "58589                               No                            No     No   \n",
       "58590                              Yes                           Yes    Yes   \n",
       "58591                              Yes                            No    Yes   \n",
       "\n",
       "      is_speed_alert ncap_rating is_claim  \n",
       "0                Yes           0        0  \n",
       "1                Yes           0        0  \n",
       "2                Yes           0        0  \n",
       "3                Yes           2        0  \n",
       "4                Yes           2        0  \n",
       "...              ...         ...      ...  \n",
       "58587            Yes           2        0  \n",
       "58588            Yes           0        0  \n",
       "58589            Yes           0        0  \n",
       "58590            Yes           2        0  \n",
       "58591            Yes           3        0  \n",
       "\n",
       "[58592 rows x 44 columns]>"
      ]
     },
     "execution_count": 3,
     "metadata": {},
     "output_type": "execute_result"
    }
   ],
   "source": [
    "x.describe"
   ]
  },
  {
   "cell_type": "code",
   "execution_count": 4,
   "id": "b50510c2",
   "metadata": {},
   "outputs": [
    {
     "data": {
      "text/plain": [
       "policy_id                           0\n",
       "policy_tenure                       0\n",
       "age_of_car                          0\n",
       "age_of_policyholder                 0\n",
       "area_cluster                        0\n",
       "population_density                  0\n",
       "make                                0\n",
       "segment                             0\n",
       "model                               0\n",
       "fuel_type                           0\n",
       "max_torque                          0\n",
       "max_power                           0\n",
       "engine_type                         0\n",
       "airbags                             0\n",
       "is_esc                              0\n",
       "is_adjustable_steering              0\n",
       "is_tpms                             0\n",
       "is_parking_sensors                  0\n",
       "is_parking_camera                   0\n",
       "rear_brakes_type                    0\n",
       "displacement                        0\n",
       "cylinder                            0\n",
       "transmission_type                   0\n",
       "gear_box                            0\n",
       "steering_type                       0\n",
       "turning_radius                      0\n",
       "length                              0\n",
       "width                               0\n",
       "height                              0\n",
       "gross_weight                        0\n",
       "is_front_fog_lights                 0\n",
       "is_rear_window_wiper                0\n",
       "is_rear_window_washer               0\n",
       "is_rear_window_defogger             0\n",
       "is_brake_assist                     0\n",
       "is_power_door_locks                 0\n",
       "is_central_locking                  0\n",
       "is_power_steering                   0\n",
       "is_driver_seat_height_adjustable    0\n",
       "is_day_night_rear_view_mirror       0\n",
       "is_ecw                              0\n",
       "is_speed_alert                      0\n",
       "ncap_rating                         0\n",
       "is_claim                            0\n",
       "dtype: int64"
      ]
     },
     "execution_count": 4,
     "metadata": {},
     "output_type": "execute_result"
    }
   ],
   "source": [
    "x.isnull().sum()"
   ]
  },
  {
   "cell_type": "code",
   "execution_count": 5,
   "id": "7fe658a0",
   "metadata": {},
   "outputs": [
    {
     "data": {
      "text/plain": [
       "policy_id                            object\n",
       "policy_tenure                       float64\n",
       "age_of_car                          float64\n",
       "age_of_policyholder                 float64\n",
       "area_cluster                         object\n",
       "population_density                    int64\n",
       "make                                  int64\n",
       "segment                              object\n",
       "model                                object\n",
       "fuel_type                            object\n",
       "max_torque                           object\n",
       "max_power                            object\n",
       "engine_type                          object\n",
       "airbags                               int64\n",
       "is_esc                               object\n",
       "is_adjustable_steering               object\n",
       "is_tpms                              object\n",
       "is_parking_sensors                   object\n",
       "is_parking_camera                    object\n",
       "rear_brakes_type                     object\n",
       "displacement                          int64\n",
       "cylinder                              int64\n",
       "transmission_type                    object\n",
       "gear_box                              int64\n",
       "steering_type                        object\n",
       "turning_radius                      float64\n",
       "length                                int64\n",
       "width                                 int64\n",
       "height                                int64\n",
       "gross_weight                          int64\n",
       "is_front_fog_lights                  object\n",
       "is_rear_window_wiper                 object\n",
       "is_rear_window_washer                object\n",
       "is_rear_window_defogger              object\n",
       "is_brake_assist                      object\n",
       "is_power_door_locks                  object\n",
       "is_central_locking                   object\n",
       "is_power_steering                    object\n",
       "is_driver_seat_height_adjustable     object\n",
       "is_day_night_rear_view_mirror        object\n",
       "is_ecw                               object\n",
       "is_speed_alert                       object\n",
       "ncap_rating                           int64\n",
       "is_claim                              int64\n",
       "dtype: object"
      ]
     },
     "execution_count": 5,
     "metadata": {},
     "output_type": "execute_result"
    }
   ],
   "source": [
    "x.dtypes"
   ]
  },
  {
   "cell_type": "code",
   "execution_count": 6,
   "id": "cc99a5a2",
   "metadata": {},
   "outputs": [
    {
     "name": "stdout",
     "output_type": "stream",
     "text": [
      "<class 'pandas.core.frame.DataFrame'>\n",
      "RangeIndex: 58592 entries, 0 to 58591\n",
      "Data columns (total 44 columns):\n",
      " #   Column                            Non-Null Count  Dtype  \n",
      "---  ------                            --------------  -----  \n",
      " 0   policy_id                         58592 non-null  object \n",
      " 1   policy_tenure                     58592 non-null  float64\n",
      " 2   age_of_car                        58592 non-null  float64\n",
      " 3   age_of_policyholder               58592 non-null  float64\n",
      " 4   area_cluster                      58592 non-null  object \n",
      " 5   population_density                58592 non-null  int64  \n",
      " 6   make                              58592 non-null  int64  \n",
      " 7   segment                           58592 non-null  object \n",
      " 8   model                             58592 non-null  object \n",
      " 9   fuel_type                         58592 non-null  object \n",
      " 10  max_torque                        58592 non-null  object \n",
      " 11  max_power                         58592 non-null  object \n",
      " 12  engine_type                       58592 non-null  object \n",
      " 13  airbags                           58592 non-null  int64  \n",
      " 14  is_esc                            58592 non-null  object \n",
      " 15  is_adjustable_steering            58592 non-null  object \n",
      " 16  is_tpms                           58592 non-null  object \n",
      " 17  is_parking_sensors                58592 non-null  object \n",
      " 18  is_parking_camera                 58592 non-null  object \n",
      " 19  rear_brakes_type                  58592 non-null  object \n",
      " 20  displacement                      58592 non-null  int64  \n",
      " 21  cylinder                          58592 non-null  int64  \n",
      " 22  transmission_type                 58592 non-null  object \n",
      " 23  gear_box                          58592 non-null  int64  \n",
      " 24  steering_type                     58592 non-null  object \n",
      " 25  turning_radius                    58592 non-null  float64\n",
      " 26  length                            58592 non-null  int64  \n",
      " 27  width                             58592 non-null  int64  \n",
      " 28  height                            58592 non-null  int64  \n",
      " 29  gross_weight                      58592 non-null  int64  \n",
      " 30  is_front_fog_lights               58592 non-null  object \n",
      " 31  is_rear_window_wiper              58592 non-null  object \n",
      " 32  is_rear_window_washer             58592 non-null  object \n",
      " 33  is_rear_window_defogger           58592 non-null  object \n",
      " 34  is_brake_assist                   58592 non-null  object \n",
      " 35  is_power_door_locks               58592 non-null  object \n",
      " 36  is_central_locking                58592 non-null  object \n",
      " 37  is_power_steering                 58592 non-null  object \n",
      " 38  is_driver_seat_height_adjustable  58592 non-null  object \n",
      " 39  is_day_night_rear_view_mirror     58592 non-null  object \n",
      " 40  is_ecw                            58592 non-null  object \n",
      " 41  is_speed_alert                    58592 non-null  object \n",
      " 42  ncap_rating                       58592 non-null  int64  \n",
      " 43  is_claim                          58592 non-null  int64  \n",
      "dtypes: float64(4), int64(12), object(28)\n",
      "memory usage: 19.7+ MB\n"
     ]
    }
   ],
   "source": [
    "x.info()"
   ]
  },
  {
   "cell_type": "code",
   "execution_count": 7,
   "id": "716808fd",
   "metadata": {},
   "outputs": [
    {
     "data": {
      "text/plain": [
       "0    0.936032\n",
       "1    0.063968\n",
       "Name: is_claim, dtype: float64"
      ]
     },
     "execution_count": 7,
     "metadata": {},
     "output_type": "execute_result"
    }
   ],
   "source": [
    "x['is_claim'].value_counts(normalize = True)"
   ]
  },
  {
   "cell_type": "markdown",
   "id": "7430dbfc",
   "metadata": {},
   "source": [
    "## EDA"
   ]
  },
  {
   "cell_type": "code",
   "execution_count": 8,
   "id": "50666ae6",
   "metadata": {},
   "outputs": [
    {
     "data": {
      "image/png": "[encoded data removed]",
      "text/plain": [
       "<Figure size 432x288 with 1 Axes>"
      ]
     },
     "metadata": {
      "needs_background": "light"
     },
     "output_type": "display_data"
    }
   ],
   "source": [
    "import seaborn as sns\n",
    "import matplotlib.pyplot as plt\n",
    "sns.boxplot(x = 'is_claim', y = 'policy_tenure', data = x)\n",
    "plt.show()"
   ]
  },
  {
   "cell_type": "code",
   "execution_count": 9,
   "id": "c675c606",
   "metadata": {},
   "outputs": [
    {
     "data": {
      "text/plain": [
       "<AxesSubplot:xlabel='is_claim', ylabel='age_of_car'>"
      ]
     },
     "execution_count": 9,
     "metadata": {},
     "output_type": "execute_result"
    },
    {
     "data": {
      "image/png": "[encoded data removed]",
      "text/plain": [
       "<Figure size 432x288 with 1 Axes>"
      ]
     },
     "metadata": {
      "needs_background": "light"
     },
     "output_type": "display_data"
    }
   ],
   "source": [
    "sns.boxplot(x = 'is_claim', y = 'age_of_car', data = x)"
   ]
  },
  {
   "cell_type": "code",
   "execution_count": 10,
   "id": "aa02c082",
   "metadata": {},
   "outputs": [
    {
     "data": {
      "text/plain": [
       "<AxesSubplot:xlabel='is_claim', ylabel='age_of_policyholder'>"
      ]
     },
     "execution_count": 10,
     "metadata": {},
     "output_type": "execute_result"
    },
    {
     "data": {
      "image/png": "[encoded data removed]",
      "text/plain": [
       "<Figure size 432x288 with 1 Axes>"
      ]
     },
     "metadata": {
      "needs_background": "light"
     },
     "output_type": "display_data"
    }
   ],
   "source": [
    "sns.boxplot(x = 'is_claim', y = 'age_of_policyholder', data = x)"
   ]
  },
  {
   "cell_type": "code",
   "execution_count": 11,
   "id": "6809dcb9",
   "metadata": {},
   "outputs": [
    {
     "data": {
      "text/plain": [
       "<AxesSubplot:xlabel='area_cluster', ylabel='Density'>"
      ]
     },
     "execution_count": 11,
     "metadata": {},
     "output_type": "execute_result"
    },
    {
     "data": {
      "image/png": "[encoded data removed]",
      "text/plain": [
       "<Figure size 864x720 with 1 Axes>"
      ]
     },
     "metadata": {
      "needs_background": "light"
     },
     "output_type": "display_data"
    }
   ],
   "source": [
    "plt.figure(figsize = (12,10))\n",
    "sns.histplot(x = 'area_cluster', hue = 'is_claim', data = x, multiple = 'stack', stat = 'density', common_norm=False)"
   ]
  },
  {
   "cell_type": "code",
   "execution_count": 12,
   "id": "686c27bf",
   "metadata": {},
   "outputs": [
    {
     "data": {
      "text/plain": [
       "<AxesSubplot:xlabel='is_claim', ylabel='population_density'>"
      ]
     },
     "execution_count": 12,
     "metadata": {},
     "output_type": "execute_result"
    },
    {
     "data": {
      "image/png": "[encoded data removed]",
      "text/plain": [
       "<Figure size 432x288 with 1 Axes>"
      ]
     },
     "metadata": {
      "needs_background": "light"
     },
     "output_type": "display_data"
    }
   ],
   "source": [
    "sns.boxplot(x = 'is_claim', y = 'population_density', data = x)"
   ]
  },
  {
   "cell_type": "code",
   "execution_count": 13,
   "id": "74fd6e06",
   "metadata": {},
   "outputs": [
    {
     "data": {
      "text/plain": [
       "<AxesSubplot:xlabel='make', ylabel='Density'>"
      ]
     },
     "execution_count": 13,
     "metadata": {},
     "output_type": "execute_result"
    },
    {
     "data": {
      "image/png": "[encoded data removed]",
      "text/plain": [
       "<Figure size 864x720 with 1 Axes>"
      ]
     },
     "metadata": {
      "needs_background": "light"
     },
     "output_type": "display_data"
    }
   ],
   "source": [
    "x['make'] = x['make'].astype('category')\n",
    "plt.figure(figsize = (12,10))\n",
    "sns.histplot(x = 'make', hue = 'is_claim', data = x, multiple = 'stack', stat = 'density', common_norm=False)"
   ]
  },
  {
   "cell_type": "markdown",
   "id": "6ea4d77e",
   "metadata": {},
   "source": [
    "## Encoding"
   ]
  },
  {
   "cell_type": "code",
   "execution_count": 14,
   "id": "7dd24945",
   "metadata": {},
   "outputs": [],
   "source": [
    "from sklearn.preprocessing import LabelEncoder"
   ]
  },
  {
   "cell_type": "code",
   "execution_count": 15,
   "id": "f35e8aca",
   "metadata": {},
   "outputs": [],
   "source": [
    "le_claim = LabelEncoder()"
   ]
  },
  {
   "cell_type": "code",
   "execution_count": 16,
   "id": "cfceaad8",
   "metadata": {},
   "outputs": [
    {
     "data": {
      "text/html": [
       "<div>\n",
       "<style scoped>\n",
       "    .dataframe tbody tr th:only-of-type {\n",
       "        vertical-align: middle;\n",
       "    }\n",
       "\n",
       "    .dataframe tbody tr th {\n",
       "        vertical-align: top;\n",
       "    }\n",
       "\n",
       "    .dataframe thead th {\n",
       "        text-align: right;\n",
       "    }\n",
       "</style>\n",
       "<table border=\"1\" class=\"dataframe\">\n",
       "  <thead>\n",
       "    <tr style=\"text-align: right;\">\n",
       "      <th></th>\n",
       "      <th>policy_id</th>\n",
       "      <th>policy_tenure</th>\n",
       "      <th>age_of_car</th>\n",
       "      <th>age_of_policyholder</th>\n",
       "      <th>area_cluster</th>\n",
       "      <th>population_density</th>\n",
       "      <th>make</th>\n",
       "      <th>segment</th>\n",
       "      <th>model</th>\n",
       "      <th>fuel_type</th>\n",
       "      <th>...</th>\n",
       "      <th>is_brake_assist</th>\n",
       "      <th>is_power_door_locks</th>\n",
       "      <th>is_central_locking</th>\n",
       "      <th>is_power_steering</th>\n",
       "      <th>is_driver_seat_height_adjustable</th>\n",
       "      <th>is_day_night_rear_view_mirror</th>\n",
       "      <th>is_ecw</th>\n",
       "      <th>is_speed_alert</th>\n",
       "      <th>ncap_rating</th>\n",
       "      <th>is_claim</th>\n",
       "    </tr>\n",
       "  </thead>\n",
       "  <tbody>\n",
       "    <tr>\n",
       "      <th>0</th>\n",
       "      <td>ID00001</td>\n",
       "      <td>0.515874</td>\n",
       "      <td>0.05</td>\n",
       "      <td>0.644231</td>\n",
       "      <td>0</td>\n",
       "      <td>4990</td>\n",
       "      <td>1</td>\n",
       "      <td>0</td>\n",
       "      <td>0</td>\n",
       "      <td>0</td>\n",
       "      <td>...</td>\n",
       "      <td>0</td>\n",
       "      <td>0</td>\n",
       "      <td>0</td>\n",
       "      <td>1</td>\n",
       "      <td>0</td>\n",
       "      <td>0</td>\n",
       "      <td>0</td>\n",
       "      <td>1</td>\n",
       "      <td>0</td>\n",
       "      <td>0</td>\n",
       "    </tr>\n",
       "    <tr>\n",
       "      <th>1</th>\n",
       "      <td>ID00002</td>\n",
       "      <td>0.672619</td>\n",
       "      <td>0.02</td>\n",
       "      <td>0.375000</td>\n",
       "      <td>11</td>\n",
       "      <td>27003</td>\n",
       "      <td>1</td>\n",
       "      <td>0</td>\n",
       "      <td>0</td>\n",
       "      <td>0</td>\n",
       "      <td>...</td>\n",
       "      <td>0</td>\n",
       "      <td>0</td>\n",
       "      <td>0</td>\n",
       "      <td>1</td>\n",
       "      <td>0</td>\n",
       "      <td>0</td>\n",
       "      <td>0</td>\n",
       "      <td>1</td>\n",
       "      <td>0</td>\n",
       "      <td>0</td>\n",
       "    </tr>\n",
       "    <tr>\n",
       "      <th>2</th>\n",
       "      <td>ID00003</td>\n",
       "      <td>0.841110</td>\n",
       "      <td>0.02</td>\n",
       "      <td>0.384615</td>\n",
       "      <td>15</td>\n",
       "      <td>4076</td>\n",
       "      <td>1</td>\n",
       "      <td>0</td>\n",
       "      <td>0</td>\n",
       "      <td>0</td>\n",
       "      <td>...</td>\n",
       "      <td>0</td>\n",
       "      <td>0</td>\n",
       "      <td>0</td>\n",
       "      <td>1</td>\n",
       "      <td>0</td>\n",
       "      <td>0</td>\n",
       "      <td>0</td>\n",
       "      <td>1</td>\n",
       "      <td>0</td>\n",
       "      <td>0</td>\n",
       "    </tr>\n",
       "    <tr>\n",
       "      <th>3</th>\n",
       "      <td>ID00004</td>\n",
       "      <td>0.900277</td>\n",
       "      <td>0.11</td>\n",
       "      <td>0.432692</td>\n",
       "      <td>16</td>\n",
       "      <td>21622</td>\n",
       "      <td>1</td>\n",
       "      <td>3</td>\n",
       "      <td>3</td>\n",
       "      <td>2</td>\n",
       "      <td>...</td>\n",
       "      <td>1</td>\n",
       "      <td>1</td>\n",
       "      <td>1</td>\n",
       "      <td>1</td>\n",
       "      <td>1</td>\n",
       "      <td>1</td>\n",
       "      <td>1</td>\n",
       "      <td>1</td>\n",
       "      <td>2</td>\n",
       "      <td>0</td>\n",
       "    </tr>\n",
       "    <tr>\n",
       "      <th>4</th>\n",
       "      <td>ID00005</td>\n",
       "      <td>0.596403</td>\n",
       "      <td>0.11</td>\n",
       "      <td>0.634615</td>\n",
       "      <td>17</td>\n",
       "      <td>34738</td>\n",
       "      <td>2</td>\n",
       "      <td>0</td>\n",
       "      <td>4</td>\n",
       "      <td>2</td>\n",
       "      <td>...</td>\n",
       "      <td>0</td>\n",
       "      <td>1</td>\n",
       "      <td>1</td>\n",
       "      <td>1</td>\n",
       "      <td>0</td>\n",
       "      <td>1</td>\n",
       "      <td>1</td>\n",
       "      <td>1</td>\n",
       "      <td>2</td>\n",
       "      <td>0</td>\n",
       "    </tr>\n",
       "  </tbody>\n",
       "</table>\n",
       "<p>5 rows × 44 columns</p>\n",
       "</div>"
      ],
      "text/plain": [
       "  policy_id  policy_tenure  age_of_car  age_of_policyholder  area_cluster  \\\n",
       "0   ID00001       0.515874        0.05             0.644231             0   \n",
       "1   ID00002       0.672619        0.02             0.375000            11   \n",
       "2   ID00003       0.841110        0.02             0.384615            15   \n",
       "3   ID00004       0.900277        0.11             0.432692            16   \n",
       "4   ID00005       0.596403        0.11             0.634615            17   \n",
       "\n",
       "   population_density make  segment  model  fuel_type  ...  is_brake_assist  \\\n",
       "0                4990    1        0      0          0  ...                0   \n",
       "1               27003    1        0      0          0  ...                0   \n",
       "2                4076    1        0      0          0  ...                0   \n",
       "3               21622    1        3      3          2  ...                1   \n",
       "4               34738    2        0      4          2  ...                0   \n",
       "\n",
       "   is_power_door_locks  is_central_locking  is_power_steering  \\\n",
       "0                    0                   0                  1   \n",
       "1                    0                   0                  1   \n",
       "2                    0                   0                  1   \n",
       "3                    1                   1                  1   \n",
       "4                    1                   1                  1   \n",
       "\n",
       "   is_driver_seat_height_adjustable  is_day_night_rear_view_mirror  is_ecw  \\\n",
       "0                                 0                              0       0   \n",
       "1                                 0                              0       0   \n",
       "2                                 0                              0       0   \n",
       "3                                 1                              1       1   \n",
       "4                                 0                              1       1   \n",
       "\n",
       "   is_speed_alert  ncap_rating  is_claim  \n",
       "0               1            0         0  \n",
       "1               1            0         0  \n",
       "2               1            0         0  \n",
       "3               1            2         0  \n",
       "4               1            2         0  \n",
       "\n",
       "[5 rows x 44 columns]"
      ]
     },
     "execution_count": 16,
     "metadata": {},
     "output_type": "execute_result"
    }
   ],
   "source": [
    "\n",
    "x['area_cluster'] = le_claim.fit_transform(x['area_cluster'])\n",
    "x['segment'] = le_claim.fit_transform(x['segment'])\n",
    "x['model'] = le_claim.fit_transform(x['model'])\n",
    "x['fuel_type'] = le_claim.fit_transform(x['fuel_type'])\n",
    "\n",
    "x['steering_type'] = le_claim.fit_transform(x['steering_type'])\n",
    "x['transmission_type'] = le_claim.fit_transform(x['transmission_type'])\n",
    "x['steering_type'] = le_claim.fit_transform(x['steering_type'])\n",
    "x['rear_brakes_type'] = le_claim.fit_transform(x['rear_brakes_type'])\n",
    "x['is_parking_camera'] = le_claim.fit_transform(x['is_parking_camera'])\n",
    "x['is_parking_sensors'] = le_claim.fit_transform(x['is_parking_sensors'])\n",
    "x['is_tpms'] = le_claim.fit_transform(x['is_tpms'])\n",
    "x['is_adjustable_steering'] = le_claim.fit_transform(x['is_adjustable_steering'])\n",
    "x['is_esc'] = le_claim.fit_transform(x['is_esc'])\n",
    "x['engine_type'] = le_claim.fit_transform(x['engine_type'])\n",
    "x['max_power'] = le_claim.fit_transform(x['max_power'])\n",
    "x['max_torque'] = le_claim.fit_transform(x['max_torque'])\n",
    "x['fuel_type'] = le_claim.fit_transform(x['fuel_type'])\n",
    "\n",
    "                                              \n",
    "x['is_front_fog_lights'] = le_claim.fit_transform(x['is_front_fog_lights'])\n",
    "x['is_rear_window_wiper'] = le_claim.fit_transform(x['is_rear_window_wiper'])\n",
    "x['is_rear_window_washer'] = le_claim.fit_transform(x['is_rear_window_washer'])\n",
    "x['is_rear_window_defogger'] = le_claim.fit_transform(x['is_rear_window_defogger'])\n",
    "x['is_brake_assist'] = le_claim.fit_transform(x['is_brake_assist'])\n",
    "x['is_power_door_locks'] = le_claim.fit_transform(x['is_power_door_locks'])\n",
    "x['is_power_steering'] = le_claim.fit_transform(x['is_power_steering'])\n",
    "x['is_central_locking'] = le_claim.fit_transform(x['is_central_locking'])\n",
    "x['is_driver_seat_height_adjustable'] = le_claim.fit_transform(x['is_driver_seat_height_adjustable'])\n",
    "x['is_day_night_rear_view_mirror'] = le_claim.fit_transform(x['is_day_night_rear_view_mirror'])\n",
    "x['is_ecw'] = le_claim.fit_transform(x['is_ecw'])\n",
    "x['is_speed_alert'] = le_claim.fit_transform(x['is_speed_alert'])\n",
    "\n",
    "\n",
    "\n",
    "x.head()"
   ]
  },
  {
   "cell_type": "code",
   "execution_count": 17,
   "id": "32228cdb",
   "metadata": {},
   "outputs": [],
   "source": [
    "x1 = x.drop(['is_claim','policy_id'],axis=1)\n",
    "y = x['is_claim']"
   ]
  },
  {
   "cell_type": "code",
   "execution_count": 18,
   "id": "1aa8735c",
   "metadata": {},
   "outputs": [
    {
     "data": {
      "text/html": [
       "<div>\n",
       "<style scoped>\n",
       "    .dataframe tbody tr th:only-of-type {\n",
       "        vertical-align: middle;\n",
       "    }\n",
       "\n",
       "    .dataframe tbody tr th {\n",
       "        vertical-align: top;\n",
       "    }\n",
       "\n",
       "    .dataframe thead th {\n",
       "        text-align: right;\n",
       "    }\n",
       "</style>\n",
       "<table border=\"1\" class=\"dataframe\">\n",
       "  <thead>\n",
       "    <tr style=\"text-align: right;\">\n",
       "      <th></th>\n",
       "      <th>policy_id</th>\n",
       "      <th>policy_tenure</th>\n",
       "      <th>age_of_car</th>\n",
       "      <th>age_of_policyholder</th>\n",
       "      <th>area_cluster</th>\n",
       "      <th>population_density</th>\n",
       "      <th>make</th>\n",
       "      <th>segment</th>\n",
       "      <th>model</th>\n",
       "      <th>fuel_type</th>\n",
       "      <th>...</th>\n",
       "      <th>is_rear_window_defogger</th>\n",
       "      <th>is_brake_assist</th>\n",
       "      <th>is_power_door_locks</th>\n",
       "      <th>is_central_locking</th>\n",
       "      <th>is_power_steering</th>\n",
       "      <th>is_driver_seat_height_adjustable</th>\n",
       "      <th>is_day_night_rear_view_mirror</th>\n",
       "      <th>is_ecw</th>\n",
       "      <th>is_speed_alert</th>\n",
       "      <th>ncap_rating</th>\n",
       "    </tr>\n",
       "  </thead>\n",
       "  <tbody>\n",
       "    <tr>\n",
       "      <th>0</th>\n",
       "      <td>ID58593</td>\n",
       "      <td>0.341732</td>\n",
       "      <td>0.00</td>\n",
       "      <td>0.586538</td>\n",
       "      <td>C3</td>\n",
       "      <td>4076</td>\n",
       "      <td>1</td>\n",
       "      <td>A</td>\n",
       "      <td>M1</td>\n",
       "      <td>CNG</td>\n",
       "      <td>...</td>\n",
       "      <td>No</td>\n",
       "      <td>No</td>\n",
       "      <td>No</td>\n",
       "      <td>No</td>\n",
       "      <td>Yes</td>\n",
       "      <td>No</td>\n",
       "      <td>No</td>\n",
       "      <td>No</td>\n",
       "      <td>Yes</td>\n",
       "      <td>0</td>\n",
       "    </tr>\n",
       "    <tr>\n",
       "      <th>1</th>\n",
       "      <td>ID58594</td>\n",
       "      <td>0.307241</td>\n",
       "      <td>0.13</td>\n",
       "      <td>0.442308</td>\n",
       "      <td>C8</td>\n",
       "      <td>8794</td>\n",
       "      <td>1</td>\n",
       "      <td>B2</td>\n",
       "      <td>M6</td>\n",
       "      <td>Petrol</td>\n",
       "      <td>...</td>\n",
       "      <td>No</td>\n",
       "      <td>Yes</td>\n",
       "      <td>Yes</td>\n",
       "      <td>Yes</td>\n",
       "      <td>Yes</td>\n",
       "      <td>Yes</td>\n",
       "      <td>Yes</td>\n",
       "      <td>Yes</td>\n",
       "      <td>Yes</td>\n",
       "      <td>2</td>\n",
       "    </tr>\n",
       "    <tr>\n",
       "      <th>2</th>\n",
       "      <td>ID58595</td>\n",
       "      <td>0.327924</td>\n",
       "      <td>0.12</td>\n",
       "      <td>0.451923</td>\n",
       "      <td>C8</td>\n",
       "      <td>8794</td>\n",
       "      <td>2</td>\n",
       "      <td>A</td>\n",
       "      <td>M3</td>\n",
       "      <td>Petrol</td>\n",
       "      <td>...</td>\n",
       "      <td>No</td>\n",
       "      <td>No</td>\n",
       "      <td>Yes</td>\n",
       "      <td>Yes</td>\n",
       "      <td>Yes</td>\n",
       "      <td>No</td>\n",
       "      <td>Yes</td>\n",
       "      <td>Yes</td>\n",
       "      <td>Yes</td>\n",
       "      <td>2</td>\n",
       "    </tr>\n",
       "    <tr>\n",
       "      <th>3</th>\n",
       "      <td>ID58596</td>\n",
       "      <td>0.782654</td>\n",
       "      <td>0.01</td>\n",
       "      <td>0.461538</td>\n",
       "      <td>C5</td>\n",
       "      <td>34738</td>\n",
       "      <td>1</td>\n",
       "      <td>A</td>\n",
       "      <td>M1</td>\n",
       "      <td>CNG</td>\n",
       "      <td>...</td>\n",
       "      <td>No</td>\n",
       "      <td>No</td>\n",
       "      <td>No</td>\n",
       "      <td>No</td>\n",
       "      <td>Yes</td>\n",
       "      <td>No</td>\n",
       "      <td>No</td>\n",
       "      <td>No</td>\n",
       "      <td>Yes</td>\n",
       "      <td>0</td>\n",
       "    </tr>\n",
       "    <tr>\n",
       "      <th>4</th>\n",
       "      <td>ID58597</td>\n",
       "      <td>1.233404</td>\n",
       "      <td>0.02</td>\n",
       "      <td>0.634615</td>\n",
       "      <td>C5</td>\n",
       "      <td>34738</td>\n",
       "      <td>1</td>\n",
       "      <td>A</td>\n",
       "      <td>M1</td>\n",
       "      <td>CNG</td>\n",
       "      <td>...</td>\n",
       "      <td>No</td>\n",
       "      <td>No</td>\n",
       "      <td>No</td>\n",
       "      <td>No</td>\n",
       "      <td>Yes</td>\n",
       "      <td>No</td>\n",
       "      <td>No</td>\n",
       "      <td>No</td>\n",
       "      <td>Yes</td>\n",
       "      <td>0</td>\n",
       "    </tr>\n",
       "  </tbody>\n",
       "</table>\n",
       "<p>5 rows × 43 columns</p>\n",
       "</div>"
      ],
      "text/plain": [
       "  policy_id  policy_tenure  age_of_car  age_of_policyholder area_cluster  \\\n",
       "0   ID58593       0.341732        0.00             0.586538           C3   \n",
       "1   ID58594       0.307241        0.13             0.442308           C8   \n",
       "2   ID58595       0.327924        0.12             0.451923           C8   \n",
       "3   ID58596       0.782654        0.01             0.461538           C5   \n",
       "4   ID58597       1.233404        0.02             0.634615           C5   \n",
       "\n",
       "   population_density  make segment model fuel_type  ...  \\\n",
       "0                4076     1       A    M1       CNG  ...   \n",
       "1                8794     1      B2    M6    Petrol  ...   \n",
       "2                8794     2       A    M3    Petrol  ...   \n",
       "3               34738     1       A    M1       CNG  ...   \n",
       "4               34738     1       A    M1       CNG  ...   \n",
       "\n",
       "  is_rear_window_defogger is_brake_assist is_power_door_locks  \\\n",
       "0                      No              No                  No   \n",
       "1                      No             Yes                 Yes   \n",
       "2                      No              No                 Yes   \n",
       "3                      No              No                  No   \n",
       "4                      No              No                  No   \n",
       "\n",
       "   is_central_locking is_power_steering is_driver_seat_height_adjustable  \\\n",
       "0                  No               Yes                               No   \n",
       "1                 Yes               Yes                              Yes   \n",
       "2                 Yes               Yes                               No   \n",
       "3                  No               Yes                               No   \n",
       "4                  No               Yes                               No   \n",
       "\n",
       "  is_day_night_rear_view_mirror is_ecw is_speed_alert ncap_rating  \n",
       "0                            No     No            Yes           0  \n",
       "1                           Yes    Yes            Yes           2  \n",
       "2                           Yes    Yes            Yes           2  \n",
       "3                            No     No            Yes           0  \n",
       "4                            No     No            Yes           0  \n",
       "\n",
       "[5 rows x 43 columns]"
      ]
     },
     "execution_count": 18,
     "metadata": {},
     "output_type": "execute_result"
    }
   ],
   "source": [
    "test = pd.read_csv('test_zo1G9sv.csv')\n",
    "test.head()\n"
   ]
  },
  {
   "cell_type": "code",
   "execution_count": 19,
   "id": "7fb322ca",
   "metadata": {},
   "outputs": [
    {
     "data": {
      "text/html": [
       "<div>\n",
       "<style scoped>\n",
       "    .dataframe tbody tr th:only-of-type {\n",
       "        vertical-align: middle;\n",
       "    }\n",
       "\n",
       "    .dataframe tbody tr th {\n",
       "        vertical-align: top;\n",
       "    }\n",
       "\n",
       "    .dataframe thead th {\n",
       "        text-align: right;\n",
       "    }\n",
       "</style>\n",
       "<table border=\"1\" class=\"dataframe\">\n",
       "  <thead>\n",
       "    <tr style=\"text-align: right;\">\n",
       "      <th></th>\n",
       "      <th>policy_id</th>\n",
       "      <th>policy_tenure</th>\n",
       "      <th>age_of_car</th>\n",
       "      <th>age_of_policyholder</th>\n",
       "      <th>area_cluster</th>\n",
       "      <th>population_density</th>\n",
       "      <th>make</th>\n",
       "      <th>segment</th>\n",
       "      <th>model</th>\n",
       "      <th>fuel_type</th>\n",
       "      <th>...</th>\n",
       "      <th>is_rear_window_defogger</th>\n",
       "      <th>is_brake_assist</th>\n",
       "      <th>is_power_door_locks</th>\n",
       "      <th>is_central_locking</th>\n",
       "      <th>is_power_steering</th>\n",
       "      <th>is_driver_seat_height_adjustable</th>\n",
       "      <th>is_day_night_rear_view_mirror</th>\n",
       "      <th>is_ecw</th>\n",
       "      <th>is_speed_alert</th>\n",
       "      <th>ncap_rating</th>\n",
       "    </tr>\n",
       "  </thead>\n",
       "  <tbody>\n",
       "    <tr>\n",
       "      <th>0</th>\n",
       "      <td>ID58593</td>\n",
       "      <td>0.341732</td>\n",
       "      <td>0.00</td>\n",
       "      <td>0.586538</td>\n",
       "      <td>15</td>\n",
       "      <td>4076</td>\n",
       "      <td>1</td>\n",
       "      <td>0</td>\n",
       "      <td>0</td>\n",
       "      <td>0</td>\n",
       "      <td>...</td>\n",
       "      <td>0</td>\n",
       "      <td>0</td>\n",
       "      <td>0</td>\n",
       "      <td>0</td>\n",
       "      <td>1</td>\n",
       "      <td>0</td>\n",
       "      <td>0</td>\n",
       "      <td>0</td>\n",
       "      <td>1</td>\n",
       "      <td>0</td>\n",
       "    </tr>\n",
       "    <tr>\n",
       "      <th>1</th>\n",
       "      <td>ID58594</td>\n",
       "      <td>0.307241</td>\n",
       "      <td>0.13</td>\n",
       "      <td>0.442308</td>\n",
       "      <td>20</td>\n",
       "      <td>8794</td>\n",
       "      <td>1</td>\n",
       "      <td>2</td>\n",
       "      <td>7</td>\n",
       "      <td>2</td>\n",
       "      <td>...</td>\n",
       "      <td>0</td>\n",
       "      <td>1</td>\n",
       "      <td>1</td>\n",
       "      <td>1</td>\n",
       "      <td>1</td>\n",
       "      <td>1</td>\n",
       "      <td>1</td>\n",
       "      <td>1</td>\n",
       "      <td>1</td>\n",
       "      <td>2</td>\n",
       "    </tr>\n",
       "    <tr>\n",
       "      <th>2</th>\n",
       "      <td>ID58595</td>\n",
       "      <td>0.327924</td>\n",
       "      <td>0.12</td>\n",
       "      <td>0.451923</td>\n",
       "      <td>20</td>\n",
       "      <td>8794</td>\n",
       "      <td>2</td>\n",
       "      <td>0</td>\n",
       "      <td>4</td>\n",
       "      <td>2</td>\n",
       "      <td>...</td>\n",
       "      <td>0</td>\n",
       "      <td>0</td>\n",
       "      <td>1</td>\n",
       "      <td>1</td>\n",
       "      <td>1</td>\n",
       "      <td>0</td>\n",
       "      <td>1</td>\n",
       "      <td>1</td>\n",
       "      <td>1</td>\n",
       "      <td>2</td>\n",
       "    </tr>\n",
       "    <tr>\n",
       "      <th>3</th>\n",
       "      <td>ID58596</td>\n",
       "      <td>0.782654</td>\n",
       "      <td>0.01</td>\n",
       "      <td>0.461538</td>\n",
       "      <td>17</td>\n",
       "      <td>34738</td>\n",
       "      <td>1</td>\n",
       "      <td>0</td>\n",
       "      <td>0</td>\n",
       "      <td>0</td>\n",
       "      <td>...</td>\n",
       "      <td>0</td>\n",
       "      <td>0</td>\n",
       "      <td>0</td>\n",
       "      <td>0</td>\n",
       "      <td>1</td>\n",
       "      <td>0</td>\n",
       "      <td>0</td>\n",
       "      <td>0</td>\n",
       "      <td>1</td>\n",
       "      <td>0</td>\n",
       "    </tr>\n",
       "    <tr>\n",
       "      <th>4</th>\n",
       "      <td>ID58597</td>\n",
       "      <td>1.233404</td>\n",
       "      <td>0.02</td>\n",
       "      <td>0.634615</td>\n",
       "      <td>17</td>\n",
       "      <td>34738</td>\n",
       "      <td>1</td>\n",
       "      <td>0</td>\n",
       "      <td>0</td>\n",
       "      <td>0</td>\n",
       "      <td>...</td>\n",
       "      <td>0</td>\n",
       "      <td>0</td>\n",
       "      <td>0</td>\n",
       "      <td>0</td>\n",
       "      <td>1</td>\n",
       "      <td>0</td>\n",
       "      <td>0</td>\n",
       "      <td>0</td>\n",
       "      <td>1</td>\n",
       "      <td>0</td>\n",
       "    </tr>\n",
       "  </tbody>\n",
       "</table>\n",
       "<p>5 rows × 43 columns</p>\n",
       "</div>"
      ],
      "text/plain": [
       "  policy_id  policy_tenure  age_of_car  age_of_policyholder  area_cluster  \\\n",
       "0   ID58593       0.341732        0.00             0.586538            15   \n",
       "1   ID58594       0.307241        0.13             0.442308            20   \n",
       "2   ID58595       0.327924        0.12             0.451923            20   \n",
       "3   ID58596       0.782654        0.01             0.461538            17   \n",
       "4   ID58597       1.233404        0.02             0.634615            17   \n",
       "\n",
       "   population_density  make  segment  model  fuel_type  ...  \\\n",
       "0                4076     1        0      0          0  ...   \n",
       "1                8794     1        2      7          2  ...   \n",
       "2                8794     2        0      4          2  ...   \n",
       "3               34738     1        0      0          0  ...   \n",
       "4               34738     1        0      0          0  ...   \n",
       "\n",
       "   is_rear_window_defogger  is_brake_assist  is_power_door_locks  \\\n",
       "0                        0                0                    0   \n",
       "1                        0                1                    1   \n",
       "2                        0                0                    1   \n",
       "3                        0                0                    0   \n",
       "4                        0                0                    0   \n",
       "\n",
       "   is_central_locking  is_power_steering  is_driver_seat_height_adjustable  \\\n",
       "0                   0                  1                                 0   \n",
       "1                   1                  1                                 1   \n",
       "2                   1                  1                                 0   \n",
       "3                   0                  1                                 0   \n",
       "4                   0                  1                                 0   \n",
       "\n",
       "   is_day_night_rear_view_mirror  is_ecw  is_speed_alert  ncap_rating  \n",
       "0                              0       0               1            0  \n",
       "1                              1       1               1            2  \n",
       "2                              1       1               1            2  \n",
       "3                              0       0               1            0  \n",
       "4                              0       0               1            0  \n",
       "\n",
       "[5 rows x 43 columns]"
      ]
     },
     "execution_count": 19,
     "metadata": {},
     "output_type": "execute_result"
    }
   ],
   "source": [
    "\n",
    "test['area_cluster'] = le_claim.fit_transform(test['area_cluster'])\n",
    "test['segment'] = le_claim.fit_transform(test['segment'])\n",
    "test['model'] = le_claim.fit_transform(test['model'])\n",
    "test['fuel_type'] = le_claim.fit_transform(test['fuel_type'])\n",
    "\n",
    "test['steering_type'] = le_claim.fit_transform(test['steering_type'])\n",
    "test['transmission_type'] = le_claim.fit_transform(test['transmission_type'])\n",
    "test['steering_type'] = le_claim.fit_transform(test['steering_type'])\n",
    "test['rear_brakes_type'] = le_claim.fit_transform(test['rear_brakes_type'])\n",
    "test['is_parking_camera'] = le_claim.fit_transform(test['is_parking_camera'])\n",
    "test['is_parking_sensors'] = le_claim.fit_transform(test['is_parking_sensors'])\n",
    "test['is_tpms'] = le_claim.fit_transform(test['is_tpms'])\n",
    "test['is_adjustable_steering'] = le_claim.fit_transform(test['is_adjustable_steering'])\n",
    "test['is_esc'] = le_claim.fit_transform(test['is_esc'])\n",
    "test['engine_type'] = le_claim.fit_transform(test['engine_type'])\n",
    "test['max_power'] = le_claim.fit_transform(test['max_power'])\n",
    "test['max_torque'] = le_claim.fit_transform(test['max_torque'])\n",
    "test['fuel_type'] = le_claim.fit_transform(test['fuel_type'])\n",
    "\n",
    "                                              \n",
    "test['is_front_fog_lights'] = le_claim.fit_transform(test['is_front_fog_lights'])\n",
    "test['is_rear_window_wiper'] = le_claim.fit_transform(test['is_rear_window_wiper'])\n",
    "test['is_rear_window_washer'] = le_claim.fit_transform(test['is_rear_window_washer'])\n",
    "test['is_rear_window_defogger'] = le_claim.fit_transform(test['is_rear_window_defogger'])\n",
    "test['is_brake_assist'] = le_claim.fit_transform(test['is_brake_assist'])\n",
    "test['is_power_door_locks'] = le_claim.fit_transform(test['is_power_door_locks'])\n",
    "test['is_power_steering'] = le_claim.fit_transform(test['is_power_steering'])\n",
    "test['is_central_locking'] = le_claim.fit_transform(test['is_central_locking'])\n",
    "test['is_driver_seat_height_adjustable'] = le_claim.fit_transform(test['is_driver_seat_height_adjustable'])\n",
    "test['is_day_night_rear_view_mirror'] = le_claim.fit_transform(test['is_day_night_rear_view_mirror'])\n",
    "test['is_ecw'] = le_claim.fit_transform(test['is_ecw'])\n",
    "test['is_speed_alert'] = le_claim.fit_transform(test['is_speed_alert'])\n",
    "\n",
    "test.head()\n"
   ]
  },
  {
   "cell_type": "code",
   "execution_count": 20,
   "id": "76ffff4c",
   "metadata": {},
   "outputs": [],
   "source": [
    "test = test.drop(['policy_id'],axis=1)"
   ]
  },
  {
   "cell_type": "markdown",
   "id": "7234e589",
   "metadata": {},
   "source": [
    "## Model Building"
   ]
  },
  {
   "cell_type": "code",
   "execution_count": 21,
   "id": "05169acc",
   "metadata": {},
   "outputs": [
    {
     "data": {
      "text/plain": [
       "0.5972806917738082"
      ]
     },
     "execution_count": 21,
     "metadata": {},
     "output_type": "execute_result"
    }
   ],
   "source": [
    "# Decision tree\n",
    "\n",
    "from sklearn import tree\n",
    "from sklearn.model_selection import train_test_split\n",
    "model=tree.DecisionTreeClassifier(criterion='gini',\n",
    "    splitter='best',\n",
    "    max_depth=20,\n",
    "    min_samples_split=2,\n",
    "    min_samples_leaf=149,\n",
    "    min_weight_fraction_leaf=0.0,\n",
    "    max_features='sqrt',\n",
    "    random_state=42,\n",
    "    max_leaf_nodes=None,\n",
    "    min_impurity_decrease=0.0,\n",
    "    class_weight='balanced',\n",
    "    ccp_alpha=0.0,)\n",
    "\n",
    "x_train, x_test, y_train, y_test = train_test_split(x1, y, test_size=0.3,random_state=42)\n",
    "model.fit(x_train,y_train)\n",
    "model.score(x_test,y_test)"
   ]
  },
  {
   "cell_type": "code",
   "execution_count": 22,
   "id": "a5e00bc2",
   "metadata": {},
   "outputs": [
    {
     "data": {
      "text/plain": [
       "array([1, 0, 0, ..., 0, 1, 0], dtype=int64)"
      ]
     },
     "execution_count": 22,
     "metadata": {},
     "output_type": "execute_result"
    }
   ],
   "source": [
    "y_pred=model.predict(test)\n",
    "y_pred"
   ]
  },
  {
   "cell_type": "code",
   "execution_count": 23,
   "id": "c7b45f8e",
   "metadata": {},
   "outputs": [],
   "source": [
    "y_pred1 = model.predict(x_test)"
   ]
  },
  {
   "cell_type": "code",
   "execution_count": 24,
   "id": "6bdedaea",
   "metadata": {},
   "outputs": [
    {
     "name": "stdout",
     "output_type": "stream",
     "text": [
      "              precision    recall  f1-score   support\n",
      "\n",
      "           0       0.95      0.60      0.74     16417\n",
      "           1       0.09      0.56      0.15      1161\n",
      "\n",
      "    accuracy                           0.60     17578\n",
      "   macro avg       0.52      0.58      0.45     17578\n",
      "weighted avg       0.89      0.60      0.70     17578\n",
      "\n"
     ]
    }
   ],
   "source": [
    "from sklearn.metrics import classification_report\n",
    "random_clf_report = classification_report(y_test,y_pred1)\n",
    "print(random_clf_report)"
   ]
  },
  {
   "cell_type": "code",
   "execution_count": 25,
   "id": "97c7ea75",
   "metadata": {},
   "outputs": [
    {
     "data": {
      "text/plain": [
       "<sklearn.metrics._plot.confusion_matrix.ConfusionMatrixDisplay at 0x1dda77825b0>"
      ]
     },
     "execution_count": 25,
     "metadata": {},
     "output_type": "execute_result"
    },
    {
     "data": {
      "image/png": "[encoded data removed]",
      "text/plain": [
       "<Figure size 432x288 with 2 Axes>"
      ]
     },
     "metadata": {
      "needs_background": "light"
     },
     "output_type": "display_data"
    }
   ],
   "source": [
    "from sklearn.metrics import classification_report, f1_score, confusion_matrix, ConfusionMatrixDisplay\n",
    "ConfusionMatrixDisplay.from_predictions(y_test, y_pred1)"
   ]
  },
  {
   "cell_type": "markdown",
   "id": "a59fbcd1",
   "metadata": {},
   "source": [
    "## Submission file"
   ]
  },
  {
   "cell_type": "code",
   "execution_count": 26,
   "id": "ee961c28",
   "metadata": {},
   "outputs": [
    {
     "data": {
      "text/html" : [
       "<div>\n",
       "<style scoped>\n",
       "    .dataframe tbody tr th:only-of-type {\n",
       "        vertical-align: middle;\n",
       "    }\n",
       "\n",
       "    .dataframe tbody tr th {\n",
       "        vertical-align: top;\n",
       "    }\n",
       "\n",
       "    .dataframe thead th {\n",
       "        text-align: right;\n",
       "    }\n",
       "</style>\n",
       "<table border=\"1\" class=\"dataframe\">\n",
       "  <thead>\n",
       "    <tr style=\"text-align: right;\">\n",
       "      <th></th>\n",
       "      <th>policy_id</th>\n",
       "      <th>is_claim</th>\n",
       "    </tr>\n",
       "  </thead>\n",
       "  <tbody>\n",
       "    <tr>\n",
       "      <th>0</th>\n",
       "      <td>ID58593</td>\n",
       "      <td>1</td>\n",
       "    </tr>\n",
       "    <tr>\n",
       "      <th>1</th>\n",
       "      <td>ID58594</td>\n",
       "      <td>1</td>\n",
       "    </tr>\n",
       "  </tbody>\n",
       "</table>\n",
       "</div>"
      ],
      "text/plain": [
       "  policy_id  is_claim\n",
       "0   ID58593         1\n",
       "1   ID58594         1"
      ]
     },
     "execution_count": 26,
     "metadata": {},
     "output_type": "execute_result"
    }
   ],
   "source": [
    "submission_df = pd.read_csv('sample_submission_KvRh9Sx.csv')\n",
    "submission_df.head(2)"
   ]
  },
  {
   "cell_type": "code",
   "execution_count": 27,
   "id": "92939b38",
   "metadata": {},
   "outputs": [
    {
     "data": {
      "text/html": [
       "<div>\n",
       "<style scoped>\n",
       "    .dataframe tbody tr th:only-of-type {\n",
       "        vertical-align: middle;\n",
       "    }\n",
       "\n",
       "    .dataframe tbody tr th {\n",
       "        vertical-align: top;\n",
       "    }\n",
       "\n",
       "    .dataframe thead th {\n",
       "        text-align: right;\n",
       "    }\n",
       "</style>\n",
       "<table border=\"1\" class=\"dataframe\">\n",
       "  <thead>\n",
       "    <tr style=\"text-align: right;\">\n",
       "      <th></th>\n",
       "      <th>policy_id</th>\n",
       "      <th>is_claim</th>\n",
       "    </tr>\n",
       "  </thead>\n",
       "  <tbody>\n",
       "    <tr>\n",
       "      <th>0</th>\n",
       "      <td>ID00001</td>\n",
       "      <td>1</td>\n",
       "    </tr>\n",
       "    <tr>\n",
       "      <th>1</th>\n",
       "      <td>ID00002</td>\n",
       "      <td>1</td>\n",
       "    </tr>\n",
       "  </tbody>\n",
       "</table>\n",
       "</div>"
      ],
      "text/plain": [
       "  policy_id  is_claim\n",
       "0   ID00001         1\n",
       "1   ID00002         1"
      ]
     },
     "execution_count": 27,
     "metadata": {},
     "output_type": "execute_result"
    }
   ],
   "source": [
    "submission_df['policy_id'] = policy_id\n",
    "submission_df.head(2)"
   ]
  },
  {
   "cell_type": "code",
   "execution_count": 28,
   "id": "17ccbab1",
   "metadata": {},
   "outputs": [],
   "source": [
    "submission_df['is_claim'] = y_pred"
   ]
  },
  {
   "cell_type": "code",
   "execution_count": 31,
   "id": "015f2801",
   "metadata": {},
   "outputs": [
    {
     "data": {
      "text/plain": [
       "0    0.587871\n",
       "1    0.412129\n",
       "Name: is_claim, dtype: float64"
      ]
     },
     "execution_count": 31,
     "metadata": {},
     "output_type": "execute_result"
    }
   ],
   "source": [
    "submission_df['is_claim'].value_counts(normalize = True)"
   ]
  },
  {
   "cell_type": "code",
   "execution_count": 30,
   "id": "f4f961a0",
   "metadata": {},
   "outputs": [],
   "source": [
    "#submission_df.to_csv('submission.csv', index=False)"
   ]
  }
 ],
 "metadata": {
  "kernelspec": {
   "display_name": "Python 3 (ipykernel)",
   "language": "python",
   "name": "python3"
  },
  "language_info": {
   "codemirror_mode": {
    "name": "ipython",
    "version": 3
   },
   "file_extension": ".py",
   "mimetype": "text/x-python",
   "name": "python",
   "nbconvert_exporter": "python",
   "pygments_lexer": "ipython3",
   "version": "3.9.12"
  }
 },
 "nbformat": 4,
 "nbformat_minor": 5
}
